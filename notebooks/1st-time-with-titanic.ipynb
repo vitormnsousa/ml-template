{
 "cells": [
  {
   "cell_type": "code",
   "execution_count": 16,
   "id": "0e7bca25",
   "metadata": {
    "_cell_guid": "b1076dfc-b9ad-4769-8c92-a6c4dae69d19",
    "_uuid": "8f2839f25d086af736a60e9eeb907d3b93b6e0e5",
    "execution": {
     "iopub.execute_input": "2021-08-04T16:26:33.801068Z",
     "iopub.status.busy": "2021-08-04T16:26:33.799548Z",
     "iopub.status.idle": "2021-08-04T16:26:35.324598Z",
     "shell.execute_reply": "2021-08-04T16:26:35.325164Z",
     "shell.execute_reply.started": "2021-08-04T16:25:58.012207Z"
    },
    "papermill": {
     "duration": 1.562474,
     "end_time": "2021-08-04T16:26:35.325472",
     "exception": false,
     "start_time": "2021-08-04T16:26:33.762998",
     "status": "completed"
    },
    "tags": []
   },
   "outputs": [],
   "source": [
    "import numpy as np # linear algebra\n",
    "import pandas as pd # data processing, CSV file I/O (e.g. pd.read_csv)\n",
    "import seaborn as sns\n",
    "import matplotlib.pyplot as plt\n",
    "\n",
    "from sklearn.impute import SimpleImputer\n",
    "\n",
    "%matplotlib inline"
   ]
  },
  {
   "cell_type": "markdown",
   "id": "5a8485ef",
   "metadata": {
    "papermill": {
     "duration": 0.031784,
     "end_time": "2021-08-04T16:26:35.388976",
     "exception": false,
     "start_time": "2021-08-04T16:26:35.357192",
     "status": "completed"
    },
    "tags": []
   },
   "source": [
    "Read the Training Data"
   ]
  },
  {
   "cell_type": "code",
   "execution_count": 4,
   "id": "6495a581",
   "metadata": {
    "execution": {
     "iopub.execute_input": "2021-08-04T16:26:35.453359Z",
     "iopub.status.busy": "2021-08-04T16:26:35.452727Z",
     "iopub.status.idle": "2021-08-04T16:26:35.501177Z",
     "shell.execute_reply": "2021-08-04T16:26:35.501669Z",
     "shell.execute_reply.started": "2021-08-04T16:25:58.031569Z"
    },
    "papermill": {
     "duration": 0.082512,
     "end_time": "2021-08-04T16:26:35.501856",
     "exception": false,
     "start_time": "2021-08-04T16:26:35.419344",
     "status": "completed"
    },
    "tags": []
   },
   "outputs": [
    {
     "data": {
      "text/html": [
       "<div>\n",
       "<style scoped>\n",
       "    .dataframe tbody tr th:only-of-type {\n",
       "        vertical-align: middle;\n",
       "    }\n",
       "\n",
       "    .dataframe tbody tr th {\n",
       "        vertical-align: top;\n",
       "    }\n",
       "\n",
       "    .dataframe thead th {\n",
       "        text-align: right;\n",
       "    }\n",
       "</style>\n",
       "<table border=\"1\" class=\"dataframe\">\n",
       "  <thead>\n",
       "    <tr style=\"text-align: right;\">\n",
       "      <th></th>\n",
       "      <th>PassengerId</th>\n",
       "      <th>Survived</th>\n",
       "      <th>Pclass</th>\n",
       "      <th>Name</th>\n",
       "      <th>Sex</th>\n",
       "      <th>Age</th>\n",
       "      <th>SibSp</th>\n",
       "      <th>Parch</th>\n",
       "      <th>Ticket</th>\n",
       "      <th>Fare</th>\n",
       "      <th>Cabin</th>\n",
       "      <th>Embarked</th>\n",
       "    </tr>\n",
       "  </thead>\n",
       "  <tbody>\n",
       "    <tr>\n",
       "      <th>0</th>\n",
       "      <td>1</td>\n",
       "      <td>0</td>\n",
       "      <td>3</td>\n",
       "      <td>Braund, Mr. Owen Harris</td>\n",
       "      <td>male</td>\n",
       "      <td>22.0</td>\n",
       "      <td>1</td>\n",
       "      <td>0</td>\n",
       "      <td>A/5 21171</td>\n",
       "      <td>7.2500</td>\n",
       "      <td>NaN</td>\n",
       "      <td>S</td>\n",
       "    </tr>\n",
       "    <tr>\n",
       "      <th>1</th>\n",
       "      <td>2</td>\n",
       "      <td>1</td>\n",
       "      <td>1</td>\n",
       "      <td>Cumings, Mrs. John Bradley (Florence Briggs Th...</td>\n",
       "      <td>female</td>\n",
       "      <td>38.0</td>\n",
       "      <td>1</td>\n",
       "      <td>0</td>\n",
       "      <td>PC 17599</td>\n",
       "      <td>71.2833</td>\n",
       "      <td>C85</td>\n",
       "      <td>C</td>\n",
       "    </tr>\n",
       "    <tr>\n",
       "      <th>2</th>\n",
       "      <td>3</td>\n",
       "      <td>1</td>\n",
       "      <td>3</td>\n",
       "      <td>Heikkinen, Miss. Laina</td>\n",
       "      <td>female</td>\n",
       "      <td>26.0</td>\n",
       "      <td>0</td>\n",
       "      <td>0</td>\n",
       "      <td>STON/O2. 3101282</td>\n",
       "      <td>7.9250</td>\n",
       "      <td>NaN</td>\n",
       "      <td>S</td>\n",
       "    </tr>\n",
       "    <tr>\n",
       "      <th>3</th>\n",
       "      <td>4</td>\n",
       "      <td>1</td>\n",
       "      <td>1</td>\n",
       "      <td>Futrelle, Mrs. Jacques Heath (Lily May Peel)</td>\n",
       "      <td>female</td>\n",
       "      <td>35.0</td>\n",
       "      <td>1</td>\n",
       "      <td>0</td>\n",
       "      <td>113803</td>\n",
       "      <td>53.1000</td>\n",
       "      <td>C123</td>\n",
       "      <td>S</td>\n",
       "    </tr>\n",
       "    <tr>\n",
       "      <th>4</th>\n",
       "      <td>5</td>\n",
       "      <td>0</td>\n",
       "      <td>3</td>\n",
       "      <td>Allen, Mr. William Henry</td>\n",
       "      <td>male</td>\n",
       "      <td>35.0</td>\n",
       "      <td>0</td>\n",
       "      <td>0</td>\n",
       "      <td>373450</td>\n",
       "      <td>8.0500</td>\n",
       "      <td>NaN</td>\n",
       "      <td>S</td>\n",
       "    </tr>\n",
       "  </tbody>\n",
       "</table>\n",
       "</div>"
      ],
      "text/plain": [
       "   PassengerId  Survived  Pclass  \\\n",
       "0            1         0       3   \n",
       "1            2         1       1   \n",
       "2            3         1       3   \n",
       "3            4         1       1   \n",
       "4            5         0       3   \n",
       "\n",
       "                                                Name     Sex   Age  SibSp  \\\n",
       "0                            Braund, Mr. Owen Harris    male  22.0      1   \n",
       "1  Cumings, Mrs. John Bradley (Florence Briggs Th...  female  38.0      1   \n",
       "2                             Heikkinen, Miss. Laina  female  26.0      0   \n",
       "3       Futrelle, Mrs. Jacques Heath (Lily May Peel)  female  35.0      1   \n",
       "4                           Allen, Mr. William Henry    male  35.0      0   \n",
       "\n",
       "   Parch            Ticket     Fare Cabin Embarked  \n",
       "0      0         A/5 21171   7.2500   NaN        S  \n",
       "1      0          PC 17599  71.2833   C85        C  \n",
       "2      0  STON/O2. 3101282   7.9250   NaN        S  \n",
       "3      0            113803  53.1000  C123        S  \n",
       "4      0            373450   8.0500   NaN        S  "
      ]
     },
     "execution_count": 4,
     "metadata": {},
     "output_type": "execute_result"
    }
   ],
   "source": [
    "train_data = pd.read_csv('../input/train.csv')\n",
    "train_data.head(5)"
   ]
  },
  {
   "cell_type": "markdown",
   "id": "a001aa3b",
   "metadata": {
    "papermill": {
     "duration": 0.032184,
     "end_time": "2021-08-04T16:26:35.658642",
     "exception": false,
     "start_time": "2021-08-04T16:26:35.626458",
     "status": "completed"
    },
    "tags": []
   },
   "source": []
  },
  {
   "cell_type": "markdown",
   "id": "f1923bd2",
   "metadata": {
    "papermill": {
     "duration": 0.030792,
     "end_time": "2021-08-04T16:26:35.721538",
     "exception": false,
     "start_time": "2021-08-04T16:26:35.690746",
     "status": "completed"
    },
    "tags": []
   },
   "source": [
    "**EDA**"
   ]
  },
  {
   "cell_type": "code",
   "execution_count": 5,
   "id": "8344604c",
   "metadata": {
    "execution": {
     "iopub.execute_input": "2021-08-04T16:26:35.789313Z",
     "iopub.status.busy": "2021-08-04T16:26:35.788625Z",
     "iopub.status.idle": "2021-08-04T16:26:35.811819Z",
     "shell.execute_reply": "2021-08-04T16:26:35.811239Z",
     "shell.execute_reply.started": "2021-08-04T16:25:58.096031Z"
    },
    "papermill": {
     "duration": 0.058656,
     "end_time": "2021-08-04T16:26:35.811967",
     "exception": false,
     "start_time": "2021-08-04T16:26:35.753311",
     "status": "completed"
    },
    "tags": []
   },
   "outputs": [
    {
     "name": "stdout",
     "output_type": "stream",
     "text": [
      "<class 'pandas.core.frame.DataFrame'>\n",
      "RangeIndex: 891 entries, 0 to 890\n",
      "Data columns (total 12 columns):\n",
      " #   Column       Non-Null Count  Dtype  \n",
      "---  ------       --------------  -----  \n",
      " 0   PassengerId  891 non-null    int64  \n",
      " 1   Survived     891 non-null    int64  \n",
      " 2   Pclass       891 non-null    int64  \n",
      " 3   Name         891 non-null    object \n",
      " 4   Sex          891 non-null    object \n",
      " 5   Age          714 non-null    float64\n",
      " 6   SibSp        891 non-null    int64  \n",
      " 7   Parch        891 non-null    int64  \n",
      " 8   Ticket       891 non-null    object \n",
      " 9   Fare         891 non-null    float64\n",
      " 10  Cabin        204 non-null    object \n",
      " 11  Embarked     889 non-null    object \n",
      "dtypes: float64(2), int64(5), object(5)\n",
      "memory usage: 83.7+ KB\n"
     ]
    }
   ],
   "source": [
    "train_data.info()"
   ]
  },
  {
   "cell_type": "code",
   "execution_count": 6,
   "id": "ac8b1ab1",
   "metadata": {
    "execution": {
     "iopub.execute_input": "2021-08-04T16:26:35.884478Z",
     "iopub.status.busy": "2021-08-04T16:26:35.883838Z",
     "iopub.status.idle": "2021-08-04T16:26:35.914287Z",
     "shell.execute_reply": "2021-08-04T16:26:35.913714Z",
     "shell.execute_reply.started": "2021-08-04T16:25:58.112979Z"
    },
    "papermill": {
     "duration": 0.069606,
     "end_time": "2021-08-04T16:26:35.914429",
     "exception": false,
     "start_time": "2021-08-04T16:26:35.844823",
     "status": "completed"
    },
    "tags": []
   },
   "outputs": [
    {
     "data": {
      "text/html": [
       "<div>\n",
       "<style scoped>\n",
       "    .dataframe tbody tr th:only-of-type {\n",
       "        vertical-align: middle;\n",
       "    }\n",
       "\n",
       "    .dataframe tbody tr th {\n",
       "        vertical-align: top;\n",
       "    }\n",
       "\n",
       "    .dataframe thead th {\n",
       "        text-align: right;\n",
       "    }\n",
       "</style>\n",
       "<table border=\"1\" class=\"dataframe\">\n",
       "  <thead>\n",
       "    <tr style=\"text-align: right;\">\n",
       "      <th></th>\n",
       "      <th>PassengerId</th>\n",
       "      <th>Survived</th>\n",
       "      <th>Pclass</th>\n",
       "      <th>Age</th>\n",
       "      <th>SibSp</th>\n",
       "      <th>Parch</th>\n",
       "      <th>Fare</th>\n",
       "    </tr>\n",
       "  </thead>\n",
       "  <tbody>\n",
       "    <tr>\n",
       "      <th>count</th>\n",
       "      <td>891.000000</td>\n",
       "      <td>891.000000</td>\n",
       "      <td>891.000000</td>\n",
       "      <td>714.000000</td>\n",
       "      <td>891.000000</td>\n",
       "      <td>891.000000</td>\n",
       "      <td>891.000000</td>\n",
       "    </tr>\n",
       "    <tr>\n",
       "      <th>mean</th>\n",
       "      <td>446.000000</td>\n",
       "      <td>0.383838</td>\n",
       "      <td>2.308642</td>\n",
       "      <td>29.699118</td>\n",
       "      <td>0.523008</td>\n",
       "      <td>0.381594</td>\n",
       "      <td>32.204208</td>\n",
       "    </tr>\n",
       "    <tr>\n",
       "      <th>std</th>\n",
       "      <td>257.353842</td>\n",
       "      <td>0.486592</td>\n",
       "      <td>0.836071</td>\n",
       "      <td>14.526497</td>\n",
       "      <td>1.102743</td>\n",
       "      <td>0.806057</td>\n",
       "      <td>49.693429</td>\n",
       "    </tr>\n",
       "    <tr>\n",
       "      <th>min</th>\n",
       "      <td>1.000000</td>\n",
       "      <td>0.000000</td>\n",
       "      <td>1.000000</td>\n",
       "      <td>0.420000</td>\n",
       "      <td>0.000000</td>\n",
       "      <td>0.000000</td>\n",
       "      <td>0.000000</td>\n",
       "    </tr>\n",
       "    <tr>\n",
       "      <th>25%</th>\n",
       "      <td>223.500000</td>\n",
       "      <td>0.000000</td>\n",
       "      <td>2.000000</td>\n",
       "      <td>20.125000</td>\n",
       "      <td>0.000000</td>\n",
       "      <td>0.000000</td>\n",
       "      <td>7.910400</td>\n",
       "    </tr>\n",
       "    <tr>\n",
       "      <th>50%</th>\n",
       "      <td>446.000000</td>\n",
       "      <td>0.000000</td>\n",
       "      <td>3.000000</td>\n",
       "      <td>28.000000</td>\n",
       "      <td>0.000000</td>\n",
       "      <td>0.000000</td>\n",
       "      <td>14.454200</td>\n",
       "    </tr>\n",
       "    <tr>\n",
       "      <th>75%</th>\n",
       "      <td>668.500000</td>\n",
       "      <td>1.000000</td>\n",
       "      <td>3.000000</td>\n",
       "      <td>38.000000</td>\n",
       "      <td>1.000000</td>\n",
       "      <td>0.000000</td>\n",
       "      <td>31.000000</td>\n",
       "    </tr>\n",
       "    <tr>\n",
       "      <th>max</th>\n",
       "      <td>891.000000</td>\n",
       "      <td>1.000000</td>\n",
       "      <td>3.000000</td>\n",
       "      <td>80.000000</td>\n",
       "      <td>8.000000</td>\n",
       "      <td>6.000000</td>\n",
       "      <td>512.329200</td>\n",
       "    </tr>\n",
       "  </tbody>\n",
       "</table>\n",
       "</div>"
      ],
      "text/plain": [
       "       PassengerId    Survived      Pclass         Age       SibSp  \\\n",
       "count   891.000000  891.000000  891.000000  714.000000  891.000000   \n",
       "mean    446.000000    0.383838    2.308642   29.699118    0.523008   \n",
       "std     257.353842    0.486592    0.836071   14.526497    1.102743   \n",
       "min       1.000000    0.000000    1.000000    0.420000    0.000000   \n",
       "25%     223.500000    0.000000    2.000000   20.125000    0.000000   \n",
       "50%     446.000000    0.000000    3.000000   28.000000    0.000000   \n",
       "75%     668.500000    1.000000    3.000000   38.000000    1.000000   \n",
       "max     891.000000    1.000000    3.000000   80.000000    8.000000   \n",
       "\n",
       "            Parch        Fare  \n",
       "count  891.000000  891.000000  \n",
       "mean     0.381594   32.204208  \n",
       "std      0.806057   49.693429  \n",
       "min      0.000000    0.000000  \n",
       "25%      0.000000    7.910400  \n",
       "50%      0.000000   14.454200  \n",
       "75%      0.000000   31.000000  \n",
       "max      6.000000  512.329200  "
      ]
     },
     "execution_count": 6,
     "metadata": {},
     "output_type": "execute_result"
    }
   ],
   "source": [
    "train_data.describe()"
   ]
  },
  {
   "cell_type": "code",
   "execution_count": 7,
   "id": "a9059511",
   "metadata": {
    "execution": {
     "iopub.execute_input": "2021-08-04T16:26:35.988597Z",
     "iopub.status.busy": "2021-08-04T16:26:35.987852Z",
     "iopub.status.idle": "2021-08-04T16:26:35.992050Z",
     "shell.execute_reply": "2021-08-04T16:26:35.991400Z",
     "shell.execute_reply.started": "2021-08-04T16:25:58.154945Z"
    },
    "papermill": {
     "duration": 0.044644,
     "end_time": "2021-08-04T16:26:35.992202",
     "exception": false,
     "start_time": "2021-08-04T16:26:35.947558",
     "status": "completed"
    },
    "tags": []
   },
   "outputs": [
    {
     "data": {
      "text/plain": [
       "PassengerId      int64\n",
       "Survived         int64\n",
       "Pclass           int64\n",
       "Name            object\n",
       "Sex             object\n",
       "Age            float64\n",
       "SibSp            int64\n",
       "Parch            int64\n",
       "Ticket          object\n",
       "Fare           float64\n",
       "Cabin           object\n",
       "Embarked        object\n",
       "dtype: object"
      ]
     },
     "execution_count": 7,
     "metadata": {},
     "output_type": "execute_result"
    }
   ],
   "source": [
    "train_data.dtypes"
   ]
  },
  {
   "cell_type": "code",
   "execution_count": 8,
   "id": "e9f62647",
   "metadata": {
    "execution": {
     "iopub.execute_input": "2021-08-04T16:26:36.068346Z",
     "iopub.status.busy": "2021-08-04T16:26:36.067440Z",
     "iopub.status.idle": "2021-08-04T16:26:36.072219Z",
     "shell.execute_reply": "2021-08-04T16:26:36.071658Z",
     "shell.execute_reply.started": "2021-08-04T16:25:58.165883Z"
    },
    "papermill": {
     "duration": 0.047255,
     "end_time": "2021-08-04T16:26:36.072367",
     "exception": false,
     "start_time": "2021-08-04T16:26:36.025112",
     "status": "completed"
    },
    "tags": []
   },
   "outputs": [
    {
     "data": {
      "text/plain": [
       "PassengerId      0\n",
       "Survived         0\n",
       "Pclass           0\n",
       "Name             0\n",
       "Sex              0\n",
       "Age            177\n",
       "SibSp            0\n",
       "Parch            0\n",
       "Ticket           0\n",
       "Fare             0\n",
       "Cabin          687\n",
       "Embarked         2\n",
       "dtype: int64"
      ]
     },
     "execution_count": 8,
     "metadata": {},
     "output_type": "execute_result"
    }
   ],
   "source": [
    "train_data.isnull().sum()"
   ]
  },
  {
   "cell_type": "code",
   "execution_count": 9,
   "id": "d3831735",
   "metadata": {
    "execution": {
     "iopub.execute_input": "2021-08-04T16:26:36.157084Z",
     "iopub.status.busy": "2021-08-04T16:26:36.148136Z",
     "iopub.status.idle": "2021-08-04T16:26:36.754995Z",
     "shell.execute_reply": "2021-08-04T16:26:36.755687Z",
     "shell.execute_reply.started": "2021-08-04T16:25:58.186038Z"
    },
    "papermill": {
     "duration": 0.648627,
     "end_time": "2021-08-04T16:26:36.755870",
     "exception": false,
     "start_time": "2021-08-04T16:26:36.107243",
     "status": "completed"
    },
    "tags": []
   },
   "outputs": [
    {
     "data": {
      "text/plain": [
       "<AxesSubplot:>"
      ]
     },
     "execution_count": 9,
     "metadata": {},
     "output_type": "execute_result"
    },
    {
     "data": {
      "image/png": "[encoded data removed]",
      "text/plain": [
       "<Figure size 432x288 with 2 Axes>"
      ]
     },
     "metadata": {
      "needs_background": "light"
     },
     "output_type": "display_data"
    }
   ],
   "source": [
    "corre = train_data.corr()\n",
    "sns.heatmap(data=corre, annot=True)"
   ]
  },
  {
   "cell_type": "markdown",
   "id": "8ba6e827",
   "metadata": {
    "papermill": {
     "duration": 0.034543,
     "end_time": "2021-08-04T16:26:36.827340",
     "exception": false,
     "start_time": "2021-08-04T16:26:36.792797",
     "status": "completed"
    },
    "tags": []
   },
   "source": [
    "* small to none correlation between target variable and other features"
   ]
  },
  {
   "cell_type": "code",
   "execution_count": 10,
   "id": "8844f6e4",
   "metadata": {
    "execution": {
     "iopub.execute_input": "2021-08-04T16:26:36.906890Z",
     "iopub.status.busy": "2021-08-04T16:26:36.905489Z",
     "iopub.status.idle": "2021-08-04T16:26:38.456967Z",
     "shell.execute_reply": "2021-08-04T16:26:38.456393Z",
     "shell.execute_reply.started": "2021-08-04T16:25:58.753498Z"
    },
    "papermill": {
     "duration": 1.593325,
     "end_time": "2021-08-04T16:26:38.457122",
     "exception": false,
     "start_time": "2021-08-04T16:26:36.863797",
     "status": "completed"
    },
    "tags": []
   },
   "outputs": [
    {
     "data": {
      "image/png": "[encoded data removed]",
      "text/plain": [
       "<Figure size 1584x1152 with 9 Axes>"
      ]
     },
     "metadata": {
      "needs_background": "light"
     },
     "output_type": "display_data"
    }
   ],
   "source": [
    "train_data.hist(bins=20, figsize=(22,16), color='r')\n",
    "plt.show()"
   ]
  },
  {
   "cell_type": "markdown",
   "id": "18457290",
   "metadata": {
    "papermill": {
     "duration": 0.036143,
     "end_time": "2021-08-04T16:26:38.529631",
     "exception": false,
     "start_time": "2021-08-04T16:26:38.493488",
     "status": "completed"
    },
    "tags": []
   },
   "source": [
    "* Some skew data in almost all variables"
   ]
  },
  {
   "cell_type": "code",
   "execution_count": 11,
   "id": "2ba3dba0",
   "metadata": {
    "execution": {
     "iopub.execute_input": "2021-08-04T16:26:38.613660Z",
     "iopub.status.busy": "2021-08-04T16:26:38.612128Z",
     "iopub.status.idle": "2021-08-04T16:26:39.044238Z",
     "shell.execute_reply": "2021-08-04T16:26:39.043527Z",
     "shell.execute_reply.started": "2021-08-04T16:26:00.070788Z"
    },
    "papermill": {
     "duration": 0.476129,
     "end_time": "2021-08-04T16:26:39.044380",
     "exception": false,
     "start_time": "2021-08-04T16:26:38.568251",
     "status": "completed"
    },
    "tags": []
   },
   "outputs": [
    {
     "data": {
      "text/plain": [
       "<AxesSubplot:xlabel='Sex', ylabel='Survived'>"
      ]
     },
     "execution_count": 11,
     "metadata": {},
     "output_type": "execute_result"
    },
    {
     "data": {
      "image/png": "[encoded data removed]",
      "text/plain": [
       "<Figure size 432x288 with 1 Axes>"
      ]
     },
     "metadata": {
      "needs_background": "light"
     },
     "output_type": "display_data"
    }
   ],
   "source": [
    "sns.barplot(y='Survived', x='Sex', hue='Pclass', data=train_data)"
   ]
  },
  {
   "cell_type": "markdown",
   "id": "8a54086e",
   "metadata": {
    "papermill": {
     "duration": 0.040353,
     "end_time": "2021-08-04T16:26:39.124052",
     "exception": false,
     "start_time": "2021-08-04T16:26:39.083699",
     "status": "completed"
    },
    "tags": []
   },
   "source": [
    "* Chance of survived is most frequent among Pclass=1, male and female. \n",
    "* Related to Sex female of Pclass=1,2 is very most frequent then with Pclass=3, cut almost by the half."
   ]
  },
  {
   "cell_type": "code",
   "execution_count": 12,
   "id": "9076c95b",
   "metadata": {
    "execution": {
     "iopub.execute_input": "2021-08-04T16:26:39.206144Z",
     "iopub.status.busy": "2021-08-04T16:26:39.205083Z",
     "iopub.status.idle": "2021-08-04T16:26:39.373670Z",
     "shell.execute_reply": "2021-08-04T16:26:39.373003Z",
     "shell.execute_reply.started": "2021-08-04T16:26:00.478440Z"
    },
    "papermill": {
     "duration": 0.211246,
     "end_time": "2021-08-04T16:26:39.373814",
     "exception": false,
     "start_time": "2021-08-04T16:26:39.162568",
     "status": "completed"
    },
    "tags": []
   },
   "outputs": [
    {
     "data": {
      "text/plain": [
       "<AxesSubplot:xlabel='Survived', ylabel='Age'>"
      ]
     },
     "execution_count": 12,
     "metadata": {},
     "output_type": "execute_result"
    },
    {
     "data": {
      "image/png": "[encoded data removed]",
      "text/plain": [
       "<Figure size 432x288 with 1 Axes>"
      ]
     },
     "metadata": {
      "needs_background": "light"
     },
     "output_type": "display_data"
    }
   ],
   "source": [
    "sns.boxplot(x='Survived', y='Age',data=train_data)"
   ]
  },
  {
   "cell_type": "code",
   "execution_count": 13,
   "id": "99bfce3c",
   "metadata": {
    "execution": {
     "iopub.execute_input": "2021-08-04T16:26:39.456562Z",
     "iopub.status.busy": "2021-08-04T16:26:39.455520Z",
     "iopub.status.idle": "2021-08-04T16:26:39.612458Z",
     "shell.execute_reply": "2021-08-04T16:26:39.611919Z",
     "shell.execute_reply.started": "2021-08-04T16:26:00.644141Z"
    },
    "papermill": {
     "duration": 0.200582,
     "end_time": "2021-08-04T16:26:39.612623",
     "exception": false,
     "start_time": "2021-08-04T16:26:39.412041",
     "status": "completed"
    },
    "tags": []
   },
   "outputs": [
    {
     "data": {
      "text/plain": [
       "<AxesSubplot:xlabel='Survived', ylabel='Fare'>"
      ]
     },
     "execution_count": 13,
     "metadata": {},
     "output_type": "execute_result"
    },
    {
     "data": {
      "image/png": "[encoded data removed]",
      "text/plain": [
       "<Figure size 432x288 with 1 Axes>"
      ]
     },
     "metadata": {
      "needs_background": "light"
     },
     "output_type": "display_data"
    }
   ],
   "source": [
    "sns.boxplot(x='Survived', y='Fare' ,data=train_data)"
   ]
  },
  {
   "cell_type": "code",
   "execution_count": 14,
   "id": "22aa92a7",
   "metadata": {
    "execution": {
     "iopub.execute_input": "2021-08-04T16:26:39.699306Z",
     "iopub.status.busy": "2021-08-04T16:26:39.698250Z",
     "iopub.status.idle": "2021-08-04T16:26:39.958998Z",
     "shell.execute_reply": "2021-08-04T16:26:39.959555Z",
     "shell.execute_reply.started": "2021-08-04T16:26:00.796212Z"
    },
    "papermill": {
     "duration": 0.308024,
     "end_time": "2021-08-04T16:26:39.959740",
     "exception": false,
     "start_time": "2021-08-04T16:26:39.651716",
     "status": "completed"
    },
    "tags": []
   },
   "outputs": [
    {
     "data": {
      "text/plain": [
       "<AxesSubplot:xlabel='Survived', ylabel='Embarked'>"
      ]
     },
     "execution_count": 14,
     "metadata": {},
     "output_type": "execute_result"
    },
    {
     "data": {
      "image/png": "[encoded data removed]",
      "text/plain": [
       "<Figure size 432x288 with 1 Axes>"
      ]
     },
     "metadata": {
      "needs_background": "light"
     },
     "output_type": "display_data"
    }
   ],
   "source": [
    "sns.barplot(x='Survived', y='Embarked', data=train_data)"
   ]
  },
  {
   "cell_type": "markdown",
   "id": "73cdb97a",
   "metadata": {
    "papermill": {
     "duration": 0.045985,
     "end_time": "2021-08-04T16:26:40.050401",
     "exception": false,
     "start_time": "2021-08-04T16:26:40.004416",
     "status": "completed"
    },
    "tags": []
   },
   "source": [
    "Age we can use a method to impute values but cabin as a lot of NaN value 687 out of 891 (i´m gonna look at this later). Embarked since there are only two of them i´m gonna drop the entries."
   ]
  }
 ],
 "metadata": {
  "interpreter": {
   "hash": "654230fd951afe8ac10372b04d54adb41bddad91c9c7bb5b77974a380b7f1ea4"
  },
  "kernelspec": {
   "display_name": "Python 3.8.5 64-bit ('base': conda)",
   "name": "python3"
  },
  "language_info": {
   "codemirror_mode": {
    "name": "ipython",
    "version": 3
   },
   "file_extension": ".py",
   "mimetype": "text/x-python",
   "name": "python",
   "nbconvert_exporter": "python",
   "pygments_lexer": "ipython3",
   "version": "3.8.5"
  },
  "papermill": {
   "default_parameters": {},
   "duration": 18.497318,
   "end_time": "2021-08-04T16:26:43.536363",
   "environment_variables": {},
   "exception": null,
   "input_path": "__notebook__.ipynb",
   "output_path": "__notebook__.ipynb",
   "parameters": {},
   "start_time": "2021-08-04T16:26:25.039045",
   "version": "2.3.3"
  }
 },
 "nbformat": 4,
 "nbformat_minor": 5
}
